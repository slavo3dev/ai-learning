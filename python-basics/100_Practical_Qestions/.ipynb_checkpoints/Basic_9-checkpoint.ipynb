{
 "cells": [
  {
   "cell_type": "code",
   "execution_count": 3,
   "id": "4947caf2-67b1-4456-9091-6b754511cc5f",
   "metadata": {},
   "outputs": [
    {
     "name": "stdout",
     "output_type": "stream",
     "text": [
      "Sum:  18\n"
     ]
    }
   ],
   "source": [
    "# Question: Let's start with easy things first. What will the following code produce?\n",
    "\n",
    "a = 2\n",
    "a = 4\n",
    "a = 6\n",
    "print(\"Sum: \", a + a + a)"
   ]
  },
  {
   "cell_type": "code",
   "execution_count": 5,
   "id": "1d10465a-d9a5-4277-9afb-ebf5aa49e79d",
   "metadata": {},
   "outputs": [],
   "source": [
    "# Question: What's wrong with the following script?\n",
    "\n",
    "a = 1\n",
    "_a = 2\n",
    "_a2 = 3\n",
    " # 2a = 4 - sytaxError"
   ]
  },
  {
   "cell_type": "code",
   "execution_count": 7,
   "id": "530125e2-728a-4ef0-8672-d8507f2ff947",
   "metadata": {},
   "outputs": [
    {
     "name": "stdout",
     "output_type": "stream",
     "text": [
      "False\n"
     ]
    }
   ],
   "source": [
    "# Question: Executing the code will throw an error. Can you explain why?\n",
    "\n",
    "a = 1\n",
    "b = 2\n",
    "print(a == b)\n",
    "# print(b == c) -> error "
   ]
  },
  {
   "cell_type": "code",
   "execution_count": 9,
   "id": "1bf88f3c-dc8a-4203-9ecd-77dfd8baa74d",
   "metadata": {},
   "outputs": [
    {
     "name": "stdout",
     "output_type": "stream",
     "text": [
      "3\n"
     ]
    }
   ],
   "source": [
    "# Question: Fix the last line so that it outputs the sum of 1 and 2. Please do not change the first two lines, only the last one.\n",
    "\n",
    "a = \"1\"\n",
    "b = 2\n",
    "print(int(a) + b)"
   ]
  },
  {
   "cell_type": "code",
   "execution_count": 12,
   "id": "3ee87f15-2744-4150-9271-baf595465a60",
   "metadata": {},
   "outputs": [
    {
     "name": "stdout",
     "output_type": "stream",
     "text": [
      "b\n"
     ]
    }
   ],
   "source": [
    "# Question: Complete the script so that it prints out the second item of the list.\n",
    "\n",
    "letters = [\"a\", \"b\", \"c\", \"d\", \"e\", \"f\", \"g\", \"h\", \"i\", \"j\"]\n",
    "print(letters[1])"
   ]
  },
  {
   "cell_type": "code",
   "execution_count": 17,
   "id": "577299ea-bcdc-4eb7-99c3-5a50a521af3f",
   "metadata": {},
   "outputs": [
    {
     "name": "stdout",
     "output_type": "stream",
     "text": [
      "['d', 'e', 'f']\n"
     ]
    }
   ],
   "source": [
    "# Question: Please complete the script so that it prints out a list slice containing items d , e , and f .\n",
    "\n",
    "letters = [\"a\", \"b\", \"c\", \"d\", \"e\", \"f\", \"g\", \"h\", \"i\", \"j\"]\n",
    "print(letters[3:6])"
   ]
  },
  {
   "cell_type": "code",
   "execution_count": 19,
   "id": "3b627b02-f65e-45e3-8be5-75537cf0a57e",
   "metadata": {},
   "outputs": [
    {
     "name": "stdout",
     "output_type": "stream",
     "text": [
      "['a', 'b', 'c']\n"
     ]
    }
   ],
   "source": [
    "# Question: List slicing is important in various data manipulation activities. Let's do a few more exercises on that.\n",
    "# Please complete the script so that it prints out the first three items of list letters.\n",
    "\n",
    "letters = [\"a\", \"b\", \"c\", \"d\", \"e\", \"f\", \"g\", \"h\", \"i\", \"j\"]\n",
    "print(letters[:3])"
   ]
  },
  {
   "cell_type": "code",
   "execution_count": 22,
   "id": "af912a09-5b3a-4021-9b45-4fa1afdd1be8",
   "metadata": {},
   "outputs": [
    {
     "name": "stdout",
     "output_type": "stream",
     "text": [
      "i\n"
     ]
    }
   ],
   "source": [
    "# Question: Complete the script so that it prints out the letter i  using negative indexing.\n",
    "\n",
    "letters = [\"a\", \"b\", \"c\", \"d\", \"e\", \"f\", \"g\", \"h\", \"i\", \"j\"]\n",
    "print(letters[-2])"
   ]
  },
  {
   "cell_type": "code",
   "execution_count": 24,
   "id": "604fa9d7-3056-4f6f-ace5-6c860fdf8e58",
   "metadata": {},
   "outputs": [
    {
     "name": "stdout",
     "output_type": "stream",
     "text": [
      "['h', 'i', 'j']\n"
     ]
    }
   ],
   "source": [
    "# Question: Complete the script so that it prints out a list slice containing the last three items of the list letters .\n",
    "\n",
    "letters = [\"a\", \"b\", \"c\", \"d\", \"e\", \"f\", \"g\", \"h\", \"i\", \"j\"]\n",
    "print(letters[-3:])"
   ]
  },
  {
   "cell_type": "code",
   "execution_count": null,
   "id": "6fc0ef14-1054-498e-bf25-2564dca771f1",
   "metadata": {},
   "outputs": [],
   "source": []
  }
 ],
 "metadata": {
  "kernelspec": {
   "display_name": "Python [conda env:base] *",
   "language": "python",
   "name": "conda-base-py"
  },
  "language_info": {
   "codemirror_mode": {
    "name": "ipython",
    "version": 3
   },
   "file_extension": ".py",
   "mimetype": "text/x-python",
   "name": "python",
   "nbconvert_exporter": "python",
   "pygments_lexer": "ipython3",
   "version": "3.13.5"
  }
 },
 "nbformat": 4,
 "nbformat_minor": 5
}
