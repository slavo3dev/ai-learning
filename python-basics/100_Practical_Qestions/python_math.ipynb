{
 "cells": [
  {
   "cell_type": "code",
   "execution_count": 17,
   "id": "19d1f798-8b4c-496a-9040-b9517b4c228a",
   "metadata": {},
   "outputs": [
    {
     "name": "stdout",
     "output_type": "stream",
     "text": [
      "8\n",
      "4\n",
      "0\n"
     ]
    }
   ],
   "source": [
    "print( 2 ** 3 )\n",
    "print ( 13 // 3 )\n",
    "print ( 3 % 3 )"
   ]
  },
  {
   "cell_type": "code",
   "execution_count": 23,
   "id": "618bb2a5-c49b-4056-bcaf-97856ae71527",
   "metadata": {},
   "outputs": [
    {
     "name": "stdout",
     "output_type": "stream",
     "text": [
      "4\n"
     ]
    },
    {
     "data": {
      "text/plain": [
       "50"
      ]
     },
     "execution_count": 23,
     "metadata": {},
     "output_type": "execute_result"
    }
   ],
   "source": [
    "# Math Functions\n",
    "\n",
    "# round\n",
    "print(round(4.5))\n",
    "\n",
    "# abs -> Absolute Negative Number \n",
    "abs(-50)"
   ]
  },
  {
   "cell_type": "code",
   "execution_count": null,
   "id": "705cc4e2-33cc-4d31-9b62-6182f63519bc",
   "metadata": {},
   "outputs": [],
   "source": []
  }
 ],
 "metadata": {
  "kernelspec": {
   "display_name": "Python [conda env:base] *",
   "language": "python",
   "name": "conda-base-py"
  },
  "language_info": {
   "codemirror_mode": {
    "name": "ipython",
    "version": 3
   },
   "file_extension": ".py",
   "mimetype": "text/x-python",
   "name": "python",
   "nbconvert_exporter": "python",
   "pygments_lexer": "ipython3",
   "version": "3.13.5"
  }
 },
 "nbformat": 4,
 "nbformat_minor": 5
}
