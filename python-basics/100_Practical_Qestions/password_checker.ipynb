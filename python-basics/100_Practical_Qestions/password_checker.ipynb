{
 "cells": [
  {
   "cell_type": "code",
   "execution_count": 6,
   "id": "68c6e0d7-2e6f-4435-90fd-cd3d4926e6a7",
   "metadata": {},
   "outputs": [
    {
     "name": "stdin",
     "output_type": "stream",
     "text": [
      "Please write your username:  slavo\n",
      "Please write your passowrd:  lionNomad011bg!\n"
     ]
    },
    {
     "name": "stdout",
     "output_type": "stream",
     "text": [
      "Hello  slavo , your password is , *************** is 15 letters long\n",
      "Hello slavo, your password is *************** is 15 letters long\n"
     ]
    }
   ],
   "source": [
    "user_name = input('Please write your username: ')\n",
    "password = input('Please write your passowrd: ')\n",
    "\n",
    "print(\"Hello \" , user_name, \", your password is ,\", len(password) * '*', len(password), \"letters long\")\n",
    "print(f'Hello {user_name}, your password is {len(password) * '*'} {len(password)} letters long')"
   ]
  },
  {
   "cell_type": "code",
   "execution_count": null,
   "id": "cf56f9e7-fc2b-473f-a4e8-ba8ef9972458",
   "metadata": {},
   "outputs": [],
   "source": []
  }
 ],
 "metadata": {
  "kernelspec": {
   "display_name": "Python [conda env:base] *",
   "language": "python",
   "name": "conda-base-py"
  },
  "language_info": {
   "codemirror_mode": {
    "name": "ipython",
    "version": 3
   },
   "file_extension": ".py",
   "mimetype": "text/x-python",
   "name": "python",
   "nbconvert_exporter": "python",
   "pygments_lexer": "ipython3",
   "version": "3.13.5"
  }
 },
 "nbformat": 4,
 "nbformat_minor": 5
}
