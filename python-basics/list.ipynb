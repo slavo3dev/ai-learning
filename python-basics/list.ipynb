{
 "cells": [
  {
   "cell_type": "code",
   "execution_count": 2,
   "id": "f67fee61-1d7a-4b30-9ce1-e67e4d048071",
   "metadata": {},
   "outputs": [
    {
     "name": "stdout",
     "output_type": "stream",
     "text": [
      "[1, 2, 'Slavo', None, {'name': 'slavo'}]\n"
     ]
    }
   ],
   "source": [
    "li = [1,2, 'Slavo', None, {\"name\": \"slavo\"}]\n",
    "# print list -> Collection of Items\n",
    "print(li)"
   ]
  },
  {
   "cell_type": "code",
   "execution_count": 3,
   "id": "73e3de3d-168b-4599-a7fa-093665610346",
   "metadata": {},
   "outputs": [],
   "source": [
    "# Data Structure \n"
   ]
  },
  {
   "cell_type": "code",
   "execution_count": null,
   "id": "bb979a56-2f0c-433b-981d-00b213cdf846",
   "metadata": {},
   "outputs": [],
   "source": []
  }
 ],
 "metadata": {
  "kernelspec": {
   "display_name": "Python [conda env:base] *",
   "language": "python",
   "name": "conda-base-py"
  },
  "language_info": {
   "codemirror_mode": {
    "name": "ipython",
    "version": 3
   },
   "file_extension": ".py",
   "mimetype": "text/x-python",
   "name": "python",
   "nbconvert_exporter": "python",
   "pygments_lexer": "ipython3",
   "version": "3.13.5"
  }
 },
 "nbformat": 4,
 "nbformat_minor": 5
}
