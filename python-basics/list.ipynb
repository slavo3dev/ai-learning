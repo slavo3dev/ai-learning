{
 "cells": [
  {
   "cell_type": "code",
   "execution_count": 2,
   "id": "f67fee61-1d7a-4b30-9ce1-e67e4d048071",
   "metadata": {},
   "outputs": [
    {
     "name": "stdout",
     "output_type": "stream",
     "text": [
      "[1, 2, 'Slavo', None, {'name': 'slavo'}]\n"
     ]
    }
   ],
   "source": [
    "li = [1,2, 'Slavo', None, {\"name\": \"slavo\"}]\n",
    "# print list -> Collection of Items\n",
    "print(li)"
   ]
  },
  {
   "cell_type": "code",
   "execution_count": 6,
   "id": "73e3de3d-168b-4599-a7fa-093665610346",
   "metadata": {},
   "outputs": [
    {
     "data": {
      "text/plain": [
       "[1, 6]"
      ]
     },
     "execution_count": 6,
     "metadata": {},
     "output_type": "execute_result"
    }
   ],
   "source": [
    "# Data Structure \n",
    "li = [ 1, 4, 5, 6 ]\n",
    "li[::3]"
   ]
  },
  {
   "cell_type": "code",
   "execution_count": 7,
   "id": "bb979a56-2f0c-433b-981d-00b213cdf846",
   "metadata": {},
   "outputs": [
    {
     "data": {
      "text/plain": [
       "[4]"
      ]
     },
     "execution_count": 7,
     "metadata": {},
     "output_type": "execute_result"
    }
   ],
   "source": [
    "# slicing\n",
    "li = [ 1, 4, 5, 6 ]\n",
    "li[1:2:2]"
   ]
  },
  {
   "cell_type": "code",
   "execution_count": 5,
   "id": "8fb4b098-e600-4c62-9963-09c8c986d485",
   "metadata": {},
   "outputs": [
    {
     "data": {
      "text/plain": [
       "['pera', 'Slavo']"
      ]
     },
     "execution_count": 5,
     "metadata": {},
     "output_type": "execute_result"
    }
   ],
   "source": [
    "# list are mutable \n",
    "li = [\"pera\", \"mila\" ]\n",
    "li[1] = \"Slavo\"\n",
    "li"
   ]
  },
  {
   "cell_type": "code",
   "execution_count": 11,
   "id": "9c0e475d-caea-4d77-916c-2514c4212f06",
   "metadata": {},
   "outputs": [
    {
     "name": "stdout",
     "output_type": "stream",
     "text": [
      "List One:  ['pere', '-slavo.io-']\n",
      "List Two:  ['pere', '-slavo.io-']\n"
     ]
    }
   ],
   "source": [
    "# list trick\n",
    "li_one = [ \"pere\", \"mika\" ]\n",
    "li_two = li_one\n",
    "li_one[1] = \"-slavo.io-\"\n",
    "print(\"List One: \", li_one)\n",
    "print(\"List Two: \", li_two)"
   ]
  },
  {
   "cell_type": "code",
   "execution_count": null,
   "id": "7a43cf59-aeb9-4942-81bf-910102dfa9f9",
   "metadata": {},
   "outputs": [],
   "source": []
  }
 ],
 "metadata": {
  "kernelspec": {
   "display_name": "Python [conda env:base] *",
   "language": "python",
   "name": "conda-base-py"
  },
  "language_info": {
   "codemirror_mode": {
    "name": "ipython",
    "version": 3
   },
   "file_extension": ".py",
   "mimetype": "text/x-python",
   "name": "python",
   "nbconvert_exporter": "python",
   "pygments_lexer": "ipython3",
   "version": "3.13.5"
  }
 },
 "nbformat": 4,
 "nbformat_minor": 5
}
