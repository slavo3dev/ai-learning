{
 "cells": [
  {
   "cell_type": "code",
   "execution_count": null,
   "id": "70f05ace-b9aa-4bff-b18a-d6f871af0306",
   "metadata": {},
   "outputs": [],
   "source": []
  }
 ],
 "metadata": {
  "kernelspec": {
   "display_name": "",
   "name": ""
  },
  "language_info": {
   "name": ""
  }
 },
 "nbformat": 4,
 "nbformat_minor": 5
}
