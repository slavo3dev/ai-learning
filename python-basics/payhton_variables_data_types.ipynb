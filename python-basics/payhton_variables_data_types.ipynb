{
 "cells": [
  {
   "cell_type": "code",
   "execution_count": 24,
   "id": "4b112c02-9e38-465c-b41d-d95e89fb9669",
   "metadata": {},
   "outputs": [],
   "source": [
    "# Fudamntals Data Types\n",
    "int\n",
    "float\n",
    "str \n",
    "bool \n",
    "list\n",
    "tuple\n",
    "set \n",
    "dict \n",
    "\n",
    "# Spetial \n",
    "None\n",
    "\n",
    "# CustomTypes -> classes"
   ]
  },
  {
   "cell_type": "code",
   "execution_count": 19,
   "id": "29799ca2-855d-46e2-a18f-5b801d620ee7",
   "metadata": {},
   "outputs": [
    {
     "name": "stdout",
     "output_type": "stream",
     "text": [
      "<class 'str'>\n",
      "<class 'int'>\n",
      "<class 'float'>\n",
      "143.56\n"
     ]
    }
   ],
   "source": [
    "# Variables \n",
    "name = 'Slavo' \n",
    "print(type(name))\n",
    "age = 43 \n",
    "weight = 100.56\n",
    "print(type(age))\n",
    "print(type(weight))\n",
    "zbir = age + weight\n",
    "print(zbir)"
   ]
  }
 ],
 "metadata": {
  "kernelspec": {
   "display_name": "Python [conda env:base] *",
   "language": "python",
   "name": "conda-base-py"
  },
  "language_info": {
   "codemirror_mode": {
    "name": "ipython",
    "version": 3
   },
   "file_extension": ".py",
   "mimetype": "text/x-python",
   "name": "python",
   "nbconvert_exporter": "python",
   "pygments_lexer": "ipython3",
   "version": "3.13.5"
  }
 },
 "nbformat": 4,
 "nbformat_minor": 5
}
