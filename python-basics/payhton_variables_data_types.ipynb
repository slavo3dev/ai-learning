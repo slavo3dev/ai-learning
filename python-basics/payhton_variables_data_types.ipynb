{
 "cells": [
  {
   "cell_type": "code",
   "execution_count": 24,
   "id": "4b112c02-9e38-465c-b41d-d95e89fb9669",
   "metadata": {},
   "outputs": [],
   "source": [
    "# Fudamntals Data Types\n",
    "int\n",
    "float\n",
    "str \n",
    "bool \n",
    "list\n",
    "tuple\n",
    "set \n",
    "dict \n",
    "\n",
    "# Spetial \n",
    "None\n",
    "\n",
    "# CustomTypes -> classes"
   ]
  },
  {
   "cell_type": "code",
   "execution_count": 19,
   "id": "29799ca2-855d-46e2-a18f-5b801d620ee7",
   "metadata": {},
   "outputs": [
    {
     "name": "stdout",
     "output_type": "stream",
     "text": [
      "<class 'str'>\n",
      "<class 'int'>\n",
      "<class 'float'>\n",
      "143.56\n"
     ]
    }
   ],
   "source": [
    "# Variables \n",
    "name = 'Slavo' \n",
    "print(type(name))\n",
    "age = 43 \n",
    "weight = 100.56\n",
    "print(type(age))\n",
    "print(type(weight))\n",
    "zbir = age + weight\n",
    "print(zbir)"
   ]
  },
  {
   "cell_type": "code",
   "execution_count": 112,
   "id": "c5826c91-619e-4ab8-9471-eded86afb02b",
   "metadata": {},
   "outputs": [
    {
     "name": "stdout",
     "output_type": "stream",
     "text": [
      "First:  -7  ->  0\n",
      "-7  ->  0\n",
      "First:  14  ->  1\n",
      "14  ->  1\n",
      "First:  -21  ->  2\n",
      "-21  ->  2\n",
      "First:  14  ->  1\n",
      "14  ->  1\n",
      "First:  50  ->  4\n",
      "50  ->  4\n",
      "First:  0  ->  5\n",
      "0  ->  5\n",
      "First:  -8  ->  6\n",
      "-8  ->  6\n",
      "First:  33  ->  7\n",
      "33  ->  7\n",
      "First:  100  ->  8\n",
      "100  ->  8\n",
      "First:  -45  ->  9\n",
      "-45  ->  9\n",
      "First:  2  ->  10\n",
      "2  ->  10\n",
      "First:  -2.5  ->  11\n",
      "-2.5  ->  11\n",
      "First:  9.81  ->  12\n",
      "9.81  ->  12\n",
      "First:  hello  ->  13\n",
      "ELSE:  hello  ->  13\n",
      "First:  {'a': 2}  ->  14\n",
      "ELSE:  {'a': 2}  ->  14\n",
      "First:  None  ->  15\n",
      "ELSE:  None  ->  15\n",
      "[-7, 14, -21, 14, 50, 0, -8, 33, 100, -45, 2, -2.5, 9.81, False, [9, 8], '99']\n"
     ]
    }
   ],
   "source": [
    "list_a = [\n",
    "    5, -12, 5, 0, 99, -34, 8, 7, -3, 42, 8, -15, 3.14, -6.5, \"100\" , None, [1, 2], {\"x\": 1}, True, (4, 5)]\n",
    "\n",
    "list_b = [\n",
    "    -7, 14, -21, 14, 50, 0, -8, 33, 100, -45, 2, -2.5, 9.81, \"hello\", False, {\"a\": 2}, [9, 8], None, \"99\"]\n",
    "\n",
    "for b in list_b:\n",
    "    print(\"First: \", b, \" -> \", list_b.index(b))\n",
    "    if type(b) == int or type(b) == float:\n",
    "        print(b, \" -> \",list_b.index(b))\n",
    "        \n",
    "    else: \n",
    "        print(\"ELSE: \",b,\" -> \", list_b.index(b))\n",
    "        list_b.remove(b)\n",
    "\n",
    "print(list_b)"
   ]
  },
  {
   "cell_type": "code",
   "execution_count": null,
   "id": "4f4d4723-3d19-4723-9bf5-ba70ceb3266c",
   "metadata": {},
   "outputs": [],
   "source": []
  },
  {
   "cell_type": "code",
   "execution_count": null,
   "id": "d29dab1c-99d9-47d6-8bb8-8800f1956c8f",
   "metadata": {},
   "outputs": [],
   "source": []
  }
 ],
 "metadata": {
  "kernelspec": {
   "display_name": "Python [conda env:base] *",
   "language": "python",
   "name": "conda-base-py"
  },
  "language_info": {
   "codemirror_mode": {
    "name": "ipython",
    "version": 3
   },
   "file_extension": ".py",
   "mimetype": "text/x-python",
   "name": "python",
   "nbconvert_exporter": "python",
   "pygments_lexer": "ipython3",
   "version": "3.13.5"
  }
 },
 "nbformat": 4,
 "nbformat_minor": 5
}
