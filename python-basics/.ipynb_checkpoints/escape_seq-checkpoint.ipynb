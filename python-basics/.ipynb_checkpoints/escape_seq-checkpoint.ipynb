{
 "cells": [
  {
   "cell_type": "code",
   "execution_count": 2,
   "id": "66b3fe91-2dbb-46f7-983b-da3c3b44e242",
   "metadata": {},
   "outputs": [
    {
     "name": "stdout",
     "output_type": "stream",
     "text": [
      "Hello ' this is amazing ' you can do more \" which is good\n"
     ]
    }
   ],
   "source": [
    "# Escape Sequance\n",
    "some_text = \"Hello \\' this is amazing \\' you can do more \\\" which is good\"\n",
    "print(some_text)"
   ]
  },
  {
   "cell_type": "code",
   "execution_count": 3,
   "id": "693da4c2-c65b-4576-8c6a-b5449c507246",
   "metadata": {},
   "outputs": [
    {
     "name": "stdout",
     "output_type": "stream",
     "text": [
      "\t Today I was .... \n"
     ]
    }
   ],
   "source": [
    "# add tab\n",
    "some_text = \"\\t Today I was .... \" \n",
    "print(some_text)"
   ]
  },
  {
   "cell_type": "code",
   "execution_count": null,
   "id": "36d31ee7-84da-47d3-85ed-cabf7ca89103",
   "metadata": {},
   "outputs": [],
   "source": []
  }
 ],
 "metadata": {
  "kernelspec": {
   "display_name": "Python [conda env:base] *",
   "language": "python",
   "name": "conda-base-py"
  },
  "language_info": {
   "codemirror_mode": {
    "name": "ipython",
    "version": 3
   },
   "file_extension": ".py",
   "mimetype": "text/x-python",
   "name": "python",
   "nbconvert_exporter": "python",
   "pygments_lexer": "ipython3",
   "version": "3.13.5"
  }
 },
 "nbformat": 4,
 "nbformat_minor": 5
}
