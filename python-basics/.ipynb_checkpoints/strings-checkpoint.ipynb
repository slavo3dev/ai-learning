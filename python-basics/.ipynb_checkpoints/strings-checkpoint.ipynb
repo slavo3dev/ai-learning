{
 "cells": [
  {
   "cell_type": "code",
   "execution_count": 1,
   "id": "39ff2001-343e-401e-9731-2181cec5aeca",
   "metadata": {},
   "outputs": [],
   "source": [
    "# str -> strings\n",
    "name = 'slavo'\n",
    "company = 'Prototype.NEXT'\n",
    "self_learning = 'slavo.io'"
   ]
  },
  {
   "cell_type": "code",
   "execution_count": 4,
   "id": "fb3a7e7b-a3df-413f-b269-08b60df80c46",
   "metadata": {},
   "outputs": [
    {
     "name": "stdout",
     "output_type": "stream",
     "text": [
      " This should be description\n",
      "lalalala a\n",
      "lalaalalala \n",
      "example \n",
      "\n"
     ]
    }
   ],
   "source": [
    "# long String \n",
    "description = ''' This should be description\n",
    "lalalala a\n",
    "lalaalalala \n",
    "example \n",
    "'''\n",
    "print(description)"
   ]
  },
  {
   "cell_type": "code",
   "execution_count": 5,
   "id": "4da38318-6395-4924-94a5-ea1d8e7ac421",
   "metadata": {},
   "outputs": [
    {
     "data": {
      "text/plain": [
       "'100'"
      ]
     },
     "execution_count": 5,
     "metadata": {},
     "output_type": "execute_result"
    }
   ],
   "source": [
    "str(100)"
   ]
  },
  {
   "cell_type": "code",
   "execution_count": 8,
   "id": "b1106da1-1e67-4dcc-86d4-f34a66aa19bc",
   "metadata": {},
   "outputs": [
    {
     "data": {
      "text/plain": [
       "'e'"
      ]
     },
     "execution_count": 8,
     "metadata": {},
     "output_type": "execute_result"
    }
   ],
   "source": [
    "# sting index\n",
    "company = \"Prototype.NEXT\"\n",
    "        #. 012345678\n",
    "company[8]"
   ]
  },
  {
   "cell_type": "code",
   "execution_count": 12,
   "id": "ef4410f3-91ed-4890-9c88-d91dbb1c9b00",
   "metadata": {},
   "outputs": [
    {
     "data": {
      "text/plain": [
       "'ry'"
      ]
     },
     "execution_count": 12,
     "metadata": {},
     "output_type": "execute_result"
    }
   ],
   "source": [
    "# [start:stop:stepover]\n",
    "# sting index\n",
    "company = \"Prototype.NEXT\"\n",
    "        #. 012345678\n",
    "company[1:8:5]"
   ]
  },
  {
   "cell_type": "code",
   "execution_count": 16,
   "id": "a001a6fa-e857-4c39-b319-51f2b9a6e595",
   "metadata": {},
   "outputs": [
    {
     "name": "stdout",
     "output_type": "stream",
     "text": [
      "E\n",
      "TXEN.epytotorP\n"
     ]
    }
   ],
   "source": [
    "# backwords\n",
    "# sting index\n",
    "company = \"Prototype.NEXT\"\n",
    "        #. 012345678\n",
    "print(company[-3])\n",
    "print(company[::-1])"
   ]
  },
  {
   "cell_type": "code",
   "execution_count": null,
   "id": "2db22abb-2bbf-40d7-b77e-2352cccba913",
   "metadata": {},
   "outputs": [],
   "source": []
  }
 ],
 "metadata": {
  "kernelspec": {
   "display_name": "Python [conda env:base] *",
   "language": "python",
   "name": "conda-base-py"
  },
  "language_info": {
   "codemirror_mode": {
    "name": "ipython",
    "version": 3
   },
   "file_extension": ".py",
   "mimetype": "text/x-python",
   "name": "python",
   "nbconvert_exporter": "python",
   "pygments_lexer": "ipython3",
   "version": "3.13.5"
  }
 },
 "nbformat": 4,
 "nbformat_minor": 5
}
