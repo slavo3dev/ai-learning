{
 "cells": [
  {
   "cell_type": "code",
   "execution_count": 6,
   "id": "e5bd55db-337b-406d-9968-2e33fe40827e",
   "metadata": {},
   "outputs": [
    {
     "name": "stdout",
     "output_type": "stream",
     "text": [
      "Prototype.NEXT\n"
     ]
    }
   ],
   "source": [
    "# immutability\n",
    "company = \"Prototype.NEXT\"\n",
    "# company[3] = \"S\" -> TypeError: 'str' object does not support item assignment\n",
    "print(company)"
   ]
  },
  {
   "cell_type": "code",
   "execution_count": 4,
   "id": "73f055a7-2880-4440-a3c3-85a5aec88d19",
   "metadata": {},
   "outputs": [],
   "source": [
    "# you can re-assing part of the string"
   ]
  },
  {
   "cell_type": "code",
   "execution_count": null,
   "id": "b40715ba-6117-41c7-aee2-404ea388bfd7",
   "metadata": {},
   "outputs": [],
   "source": []
  }
 ],
 "metadata": {
  "kernelspec": {
   "display_name": "Python [conda env:base] *",
   "language": "python",
   "name": "conda-base-py"
  },
  "language_info": {
   "codemirror_mode": {
    "name": "ipython",
    "version": 3
   },
   "file_extension": ".py",
   "mimetype": "text/x-python",
   "name": "python",
   "nbconvert_exporter": "python",
   "pygments_lexer": "ipython3",
   "version": "3.13.5"
  }
 },
 "nbformat": 4,
 "nbformat_minor": 5
}
