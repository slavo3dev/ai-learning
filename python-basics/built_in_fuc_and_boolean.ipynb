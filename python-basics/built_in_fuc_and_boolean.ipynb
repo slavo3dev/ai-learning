{
 "cells": [
  {
   "cell_type": "code",
   "execution_count": 2,
   "id": "8b6f95a7-c501-44e9-9b13-e3560fd72cdd",
   "metadata": {},
   "outputs": [
    {
     "data": {
      "text/plain": [
       "11"
      ]
     },
     "execution_count": 2,
     "metadata": {},
     "output_type": "execute_result"
    }
   ],
   "source": [
    "len('hello hello')"
   ]
  },
  {
   "cell_type": "code",
   "execution_count": 3,
   "id": "b75b2eb9-7cd1-40a8-854c-257af2887649",
   "metadata": {},
   "outputs": [],
   "source": [
    "# docs for autometic tools: functions & methods\n",
    "# https://docs.python.org/3/library/functions.html\n",
    "# https://www.w3schools.com/python/python_ref_string.asp"
   ]
  },
  {
   "cell_type": "code",
   "execution_count": 5,
   "id": "01386272-76ca-4fc1-aaf3-96555af01e4c",
   "metadata": {},
   "outputs": [
    {
     "data": {
      "text/plain": [
       "5"
      ]
     },
     "execution_count": 5,
     "metadata": {},
     "output_type": "execute_result"
    }
   ],
   "source": [
    "# built-in func\n",
    "len('Slavo')"
   ]
  },
  {
   "cell_type": "code",
   "execution_count": 6,
   "id": "8569be40-f9f4-41f2-9461-82c716532de8",
   "metadata": {},
   "outputs": [
    {
     "data": {
      "text/plain": [
       "'mlavo'"
      ]
     },
     "execution_count": 6,
     "metadata": {},
     "output_type": "execute_result"
    }
   ],
   "source": [
    "# method\n",
    "'slavo'.replace('s', 'm')"
   ]
  },
  {
   "cell_type": "code",
   "execution_count": 8,
   "id": "1c039be3-0178-4d34-83d4-8f1f4eeeca2b",
   "metadata": {},
   "outputs": [
    {
     "name": "stdout",
     "output_type": "stream",
     "text": [
      "1 to bool: True\n",
      "0 to bool: False\n",
      "'' to bool: False\n",
      "slav to bool: True\n"
     ]
    }
   ],
   "source": [
    "# booleans\n",
    "True\n",
    "False \n",
    "print('1 to bool:', bool(1))\n",
    "print('0 to bool:',bool(0))\n",
    "print('\\'\\' to bool:', bool(''))\n",
    "print('slav to bool:', bool('slav'))"
   ]
  },
  {
   "cell_type": "code",
   "execution_count": null,
   "id": "0944b0a5-0f19-4d19-b6a6-1eedbe1ee63b",
   "metadata": {},
   "outputs": [],
   "source": []
  }
 ],
 "metadata": {
  "kernelspec": {
   "display_name": "Python [conda env:base] *",
   "language": "python",
   "name": "conda-base-py"
  },
  "language_info": {
   "codemirror_mode": {
    "name": "ipython",
    "version": 3
   },
   "file_extension": ".py",
   "mimetype": "text/x-python",
   "name": "python",
   "nbconvert_exporter": "python",
   "pygments_lexer": "ipython3",
   "version": "3.13.5"
  }
 },
 "nbformat": 4,
 "nbformat_minor": 5
}
